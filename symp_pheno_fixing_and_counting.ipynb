{
 "cells": [
  {
   "cell_type": "code",
   "execution_count": 1,
   "id": "caecc891",
   "metadata": {},
   "outputs": [],
   "source": [
    "import numpy as np\n",
    "import os\n",
    "import pandas as pd"
   ]
  },
  {
   "cell_type": "code",
   "execution_count": 2,
   "id": "d0ad847c",
   "metadata": {},
   "outputs": [],
   "source": [
    "def clean_and_split(file):\n",
    "    df = pd.read_csv(file, sep='\\t').dropna(subset=['FID'])\n",
    "    file_pref = file[6:file.index('BCD')]\n",
    "    for pheno in df.columns[2:]:\n",
    "        subdf = df[['FID', 'IID', pheno]].copy().dropna()\n",
    "        if subdf['IID'].dtype == np.float64:\n",
    "            subdf['IID'] = subdf['IID'].astype(int)\n",
    "        subdf[pheno] = subdf[pheno].astype(int)\n",
    "        subdf.to_csv('pheno/' + file_pref + pheno + '.pheno', sep='\\t', index=False)"
   ]
  },
  {
   "cell_type": "code",
   "execution_count": 3,
   "id": "dced329a",
   "metadata": {},
   "outputs": [
    {
     "name": "stdout",
     "output_type": "stream",
     "text": [
      "11_SATU_C_CAPS4_BCD.txt\n",
      "12_DEFE_C_CAPS4_BCD.txt\n",
      "13_NHRV_L_GFK_PCL-5_BCDE.txt\n",
      "13_NHRV_L_VAKN_PCL4_BCD.txt\n",
      "17_KSUD_C_PCL-5_BCDE.txt\n",
      "1_MRSC_C_MAX_CAPS4_BCD.txt\n",
      "2_ONGA_L_MAX_PCL4_BCD.txt\n",
      "33_RING_C_T1_PCL4_BCD.txt\n",
      "43_WACH_C_PCL-5_BCDE.txt\n",
      "47_GTPC_C_CAPS-5_BCDE.txt\n",
      "48_BETR_C_CAPS4_BCD.txt\n",
      "49_SEEP_L_CAPS4_BCD.txt\n",
      "55_GALL_C_CAPS-5_BCDE.txt\n",
      "57_BAKE_C_CAPS4_BCD.txt\n",
      "58_VRIS_C_CAPS-5_BCDE.txt\n",
      "5_NHS2_L_PCL4_BCD.txt\n",
      "64_BRLS_C_CAPS-5_BCDE.txt\n",
      "70_RCSS_C_BL_PCL-5_BCDE.txt\n",
      "71_DELB_C_PCL-5_BCDE.txt\n",
      "73_AURO_C_PCL-5_BCDE.txt\n",
      "76_EHVP_C_CAPS-5_BCDE.txt\n",
      "87_ONGB_L_MAX_PCL4_BCD.txt\n"
     ]
    }
   ],
   "source": [
    "for file in os.listdir('pheno'):\n",
    "    if file[-5:] == 'pheno':\n",
    "        continue\n",
    "    print(file)\n",
    "    clean_and_split('pheno/' + file)"
   ]
  },
  {
   "cell_type": "code",
   "execution_count": 4,
   "id": "8e3e32fc",
   "metadata": {},
   "outputs": [],
   "source": [
    "b_counts = {'study': [], 'count_PHENO_B': []}\n",
    "d_counts = {'study': [], 'count_PHENO_D': []}\n",
    "for file in os.listdir('pheno'):\n",
    "    if '_b_' in file or '_d_' in file:\n",
    "        # everything before CAPS/PCL as study id\n",
    "        caps_ind = file.upper().find('CAPS')\n",
    "        pcl_ind = file.upper().find('PCL')\n",
    "        id_ind = caps_ind if caps_ind != -1 else pcl_ind\n",
    "        study = file[:id_ind-1]\n",
    "        # number of subjects\n",
    "        with open('pheno/' + file, 'r') as f:\n",
    "            subjs = len(f.readlines())\n",
    "        if '_b_' in file:\n",
    "            b_counts['study'].append(study)\n",
    "            b_counts['count_PHENO_B'].append(subjs)\n",
    "        elif '_d_' in file:\n",
    "            d_counts['study'].append(study)\n",
    "            d_counts['count_PHENO_D'].append(subjs)\n",
    "b_counts = pd.DataFrame(b_counts)\n",
    "d_counts = pd.DataFrame(d_counts)\n",
    "\n",
    "merged = b_counts.merge(d_counts, on='study')\n",
    "merged.to_csv('PHENO_counts.csv', index=False)"
   ]
  }
 ],
 "metadata": {
  "kernelspec": {
   "display_name": "Python 3",
   "language": "python",
   "name": "python3"
  },
  "language_info": {
   "codemirror_mode": {
    "name": "ipython",
    "version": 3
   },
   "file_extension": ".py",
   "mimetype": "text/x-python",
   "name": "python",
   "nbconvert_exporter": "python",
   "pygments_lexer": "ipython3",
   "version": "3.8.8"
  }
 },
 "nbformat": 4,
 "nbformat_minor": 5
}
